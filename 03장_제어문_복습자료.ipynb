{
 "cells": [
  {
   "cell_type": "markdown",
   "metadata": {},
   "source": [
    "### 2. while문을 이용해 1부터 1000까지의 자연수 중 3의 배수의 합을 구해보자. "
   ]
  },
  {
   "cell_type": "code",
   "execution_count": 7,
   "metadata": {},
   "outputs": [
    {
     "name": "stdout",
     "output_type": "stream",
     "text": [
      "166833\n"
     ]
    }
   ],
   "source": [
    "num =1\n",
    "sum =0\n",
    "\n",
    "while num<=1000:\n",
    "    if num %3 ==0:\n",
    "        sum +=num\n",
    "    num +=1\n",
    "print(sum)"
   ]
  },
  {
   "cell_type": "markdown",
   "metadata": {},
   "source": [
    "### 3.while문을 사용하여 다음과 같이 별(*)을 표시하는 프로그램을 작성해 보자"
   ]
  },
  {
   "cell_type": "code",
   "execution_count": null,
   "metadata": {},
   "outputs": [],
   "source": [
    "'''\n",
    "*\n",
    "**\n",
    "***\n",
    "****\n",
    "*****\n",
    "'''"
   ]
  },
  {
   "cell_type": "code",
   "execution_count": 19,
   "metadata": {},
   "outputs": [
    {
     "name": "stdout",
     "output_type": "stream",
     "text": [
      "'''\n",
      "*\n",
      "**\n",
      "***\n",
      "****\n",
      "*****\n",
      "'''\n"
     ]
    }
   ],
   "source": [
    "num =1\n",
    "print(\"'''\")\n",
    "while num <=5:\n",
    "    print(\"*\"*num)\n",
    "    num +=1\n",
    "print(\"'''\")\n"
   ]
  },
  {
   "cell_type": "markdown",
   "metadata": {},
   "source": [
    "### 4. for문을 활용해 1부터 100까지의 숫자를 출력해보자 "
   ]
  },
  {
   "cell_type": "code",
   "execution_count": null,
   "metadata": {},
   "outputs": [],
   "source": [
    "for i in range(1,101):\n",
    "    print(i)"
   ]
  },
  {
   "cell_type": "markdown",
   "metadata": {},
   "source": [
    "### 5. A학급에 총 10명의 학생이 있다. 이 학생들의 중간고사 점수는 다음과 같다.\n",
    "[70,60,55,75,95,90,80,80,85,100]\n",
    "### for문을 활용해 A학급의 평균을 구해보자"
   ]
  },
  {
   "cell_type": "code",
   "execution_count": 9,
   "metadata": {},
   "outputs": [
    {
     "name": "stdout",
     "output_type": "stream",
     "text": [
      "79.0\n"
     ]
    }
   ],
   "source": [
    "a=[70,60,55,75,95,90,80,80,85,100]\n",
    "sum = 0\n",
    "for i in a:\n",
    "    sum += i\n",
    "avg = sum / len(a)\n",
    "print(avg)\n",
    "    "
   ]
  },
  {
   "cell_type": "markdown",
   "metadata": {},
   "source": [
    "### 6. 리스트 중에서 홀수에만 2를 곱하여 저장하라\n",
    "number = [1,2,3,4,5]"
   ]
  },
  {
   "cell_type": "code",
   "execution_count": 14,
   "metadata": {},
   "outputs": [
    {
     "name": "stdout",
     "output_type": "stream",
     "text": [
      "[2, 2, 6, 4, 10]\n"
     ]
    }
   ],
   "source": [
    "number = [1,2,3,4,5]\n",
    "new=[]\n",
    "for i in number:\n",
    "    if i % 2 !=0:\n",
    "        new.append(i*2)\n",
    "    else:\n",
    "        new.append(i)\n",
    "print(new)"
   ]
  },
  {
   "cell_type": "markdown",
   "metadata": {},
   "source": [
    "### 리스트 내포를 활용해 표현해보자. "
   ]
  },
  {
   "cell_type": "code",
   "execution_count": 24,
   "metadata": {},
   "outputs": [
    {
     "name": "stdout",
     "output_type": "stream",
     "text": [
      "[2, 2, 6, 4, 10]\n"
     ]
    }
   ],
   "source": [
    "number = [1,2,3,4,5]\n",
    "new = [i*2  if i%2!=0  else i for i in number]\n",
    "print(new)"
   ]
  }
 ],
 "metadata": {
  "kernelspec": {
   "display_name": "Python 3",
   "language": "python",
   "name": "python3"
  }
 },
 "nbformat": 4,
 "nbformat_minor": 2
}
