{
  "nbformat": 4,
  "nbformat_minor": 0,
  "metadata": {
    "colab": {
      "name": "0118 과제1.ipynb",
      "provenance": []
    },
    "kernelspec": {
      "name": "python3",
      "display_name": "Python 3"
    }
  },
  "cells": [
    {
      "cell_type": "code",
      "metadata": {
        "id": "Clt4l0aiCgv2"
      },
      "source": [
        "from pandas import DataFrame"
      ],
      "execution_count": 1,
      "outputs": []
    },
    {
      "cell_type": "code",
      "metadata": {
        "colab": {
          "base_uri": "https://localhost:8080/",
          "height": 202
        },
        "id": "-kdUhRDiCj9H",
        "outputId": "b0578c1b-6be4-4953-fcbe-163e940c0298"
      },
      "source": [
        "ex = {'경도' : [126.94512114791948,126.94532699398697, 126.94586019997475,126.94625442881632, 126.9424047999559],\r\n",
        "     '위도' : [37.559666751673596, 37.55904177461071, 37.55879807682168, 37.558482056811634, 37.55845566987734],\r\n",
        "     '상호명' : ['돈천동 식당','빵사이에 낀 과일','포포나무','까이식당','아콘스톨']}\r\n",
        "\r\n",
        "ex=DataFrame(ex)\r\n",
        "ex.head()"
      ],
      "execution_count": 3,
      "outputs": [
        {
          "output_type": "execute_result",
          "data": {
            "text/html": [
              "<div>\n",
              "<style scoped>\n",
              "    .dataframe tbody tr th:only-of-type {\n",
              "        vertical-align: middle;\n",
              "    }\n",
              "\n",
              "    .dataframe tbody tr th {\n",
              "        vertical-align: top;\n",
              "    }\n",
              "\n",
              "    .dataframe thead th {\n",
              "        text-align: right;\n",
              "    }\n",
              "</style>\n",
              "<table border=\"1\" class=\"dataframe\">\n",
              "  <thead>\n",
              "    <tr style=\"text-align: right;\">\n",
              "      <th></th>\n",
              "      <th>경도</th>\n",
              "      <th>위도</th>\n",
              "      <th>상호명</th>\n",
              "    </tr>\n",
              "  </thead>\n",
              "  <tbody>\n",
              "    <tr>\n",
              "      <th>0</th>\n",
              "      <td>126.945121</td>\n",
              "      <td>37.559667</td>\n",
              "      <td>돈천동 식당</td>\n",
              "    </tr>\n",
              "    <tr>\n",
              "      <th>1</th>\n",
              "      <td>126.945327</td>\n",
              "      <td>37.559042</td>\n",
              "      <td>빵사이에 낀 과일</td>\n",
              "    </tr>\n",
              "    <tr>\n",
              "      <th>2</th>\n",
              "      <td>126.945860</td>\n",
              "      <td>37.558798</td>\n",
              "      <td>포포나무</td>\n",
              "    </tr>\n",
              "    <tr>\n",
              "      <th>3</th>\n",
              "      <td>126.946254</td>\n",
              "      <td>37.558482</td>\n",
              "      <td>까이식당</td>\n",
              "    </tr>\n",
              "    <tr>\n",
              "      <th>4</th>\n",
              "      <td>126.942405</td>\n",
              "      <td>37.558456</td>\n",
              "      <td>아콘스톨</td>\n",
              "    </tr>\n",
              "  </tbody>\n",
              "</table>\n",
              "</div>"
            ],
            "text/plain": [
              "           경도         위도        상호명\n",
              "0  126.945121  37.559667     돈천동 식당\n",
              "1  126.945327  37.559042  빵사이에 낀 과일\n",
              "2  126.945860  37.558798       포포나무\n",
              "3  126.946254  37.558482       까이식당\n",
              "4  126.942405  37.558456       아콘스톨"
            ]
          },
          "metadata": {
            "tags": []
          },
          "execution_count": 3
        }
      ]
    },
    {
      "cell_type": "code",
      "metadata": {
        "id": "4qPBNufzCj6s"
      },
      "source": [
        "import folium \r\n",
        "\r\n",
        "lat = ex['위도'].mean()\r\n",
        "long = ex['경도'].mean()\r\n"
      ],
      "execution_count": 8,
      "outputs": []
    },
    {
      "cell_type": "code",
      "metadata": {
        "colab": {
          "base_uri": "https://localhost:8080/",
          "height": 712
        },
        "id": "BVjzVGCTCvQ3",
        "outputId": "f9fa36a0-3713-45a2-dde1-9c91e002aaf8"
      },
      "source": [
        "# 지도 띄우기\r\n",
        "m=folium.Map([lat,long], zoom_start=17)\r\n",
        "\r\n",
        "for i in ex.index:\r\n",
        "  sub_lat = ex.loc[i,'위도']\r\n",
        "  sub_long = ex.loc[i,'경도']\r\n",
        "\r\n",
        "  title = ex.loc[i,'상호명']\r\n",
        "\r\n",
        "  #지도에 데이터 찍어서 보여주기\r\n",
        "  folium.Marker([sub_lat, sub_long], tooltip = title).add_to(m)\r\n",
        "\r\n",
        "# 한글이 안나오는 오류 html로 trouble shooting\r\n",
        "m.save('example.html')\r\n",
        "m"
      ],
      "execution_count": 10,
      "outputs": [
        {
          "output_type": "execute_result",
          "data": {
            "text/html": [
              "<div style=\"width:100%;\"><div style=\"position:relative;width:100%;height:0;padding-bottom:60%;\"><span style=\"color:#565656\">Make this Notebook Trusted to load map: File -> Trust Notebook</span><iframe src=\"about:blank\" style=\"position:absolute;width:100%;height:100%;left:0;top:0;border:none !important;\" data-html=%3C%21DOCTYPE%20html%3E%0A%3Chead%3E%20%20%20%20%0A%20%20%20%20%3Cmeta%20http-equiv%3D%22content-type%22%20content%3D%22text/html%3B%20charset%3DUTF-8%22%20/%3E%0A%20%20%20%20%3Cscript%3EL_PREFER_CANVAS%3Dfalse%3B%20L_NO_TOUCH%3Dfalse%3B%20L_DISABLE_3D%3Dfalse%3B%3C/script%3E%0A%20%20%20%20%3Cscript%20src%3D%22https%3A//cdn.jsdelivr.net/npm/leaflet%401.4.0/dist/leaflet.js%22%3E%3C/script%3E%0A%20%20%20%20%3Cscript%20src%3D%22https%3A//code.jquery.com/jquery-1.12.4.min.js%22%3E%3C/script%3E%0A%20%20%20%20%3Cscript%20src%3D%22https%3A//maxcdn.bootstrapcdn.com/bootstrap/3.2.0/js/bootstrap.min.js%22%3E%3C/script%3E%0A%20%20%20%20%3Cscript%20src%3D%22https%3A//cdnjs.cloudflare.com/ajax/libs/Leaflet.awesome-markers/2.0.2/leaflet.awesome-markers.js%22%3E%3C/script%3E%0A%20%20%20%20%3Clink%20rel%3D%22stylesheet%22%20href%3D%22https%3A//cdn.jsdelivr.net/npm/leaflet%401.4.0/dist/leaflet.css%22/%3E%0A%20%20%20%20%3Clink%20rel%3D%22stylesheet%22%20href%3D%22https%3A//maxcdn.bootstrapcdn.com/bootstrap/3.2.0/css/bootstrap.min.css%22/%3E%0A%20%20%20%20%3Clink%20rel%3D%22stylesheet%22%20href%3D%22https%3A//maxcdn.bootstrapcdn.com/bootstrap/3.2.0/css/bootstrap-theme.min.css%22/%3E%0A%20%20%20%20%3Clink%20rel%3D%22stylesheet%22%20href%3D%22https%3A//maxcdn.bootstrapcdn.com/font-awesome/4.6.3/css/font-awesome.min.css%22/%3E%0A%20%20%20%20%3Clink%20rel%3D%22stylesheet%22%20href%3D%22https%3A//cdnjs.cloudflare.com/ajax/libs/Leaflet.awesome-markers/2.0.2/leaflet.awesome-markers.css%22/%3E%0A%20%20%20%20%3Clink%20rel%3D%22stylesheet%22%20href%3D%22https%3A//rawcdn.githack.com/python-visualization/folium/master/folium/templates/leaflet.awesome.rotate.css%22/%3E%0A%20%20%20%20%3Cstyle%3Ehtml%2C%20body%20%7Bwidth%3A%20100%25%3Bheight%3A%20100%25%3Bmargin%3A%200%3Bpadding%3A%200%3B%7D%3C/style%3E%0A%20%20%20%20%3Cstyle%3E%23map%20%7Bposition%3Aabsolute%3Btop%3A0%3Bbottom%3A0%3Bright%3A0%3Bleft%3A0%3B%7D%3C/style%3E%0A%20%20%20%20%0A%20%20%20%20%3Cmeta%20name%3D%22viewport%22%20content%3D%22width%3Ddevice-width%2C%0A%20%20%20%20%20%20%20%20initial-scale%3D1.0%2C%20maximum-scale%3D1.0%2C%20user-scalable%3Dno%22%20/%3E%0A%20%20%20%20%3Cstyle%3E%23map_244edb7fabe94b58b8fb798d14a4ea0f%20%7B%0A%20%20%20%20%20%20%20%20position%3A%20relative%3B%0A%20%20%20%20%20%20%20%20width%3A%20100.0%25%3B%0A%20%20%20%20%20%20%20%20height%3A%20100.0%25%3B%0A%20%20%20%20%20%20%20%20left%3A%200.0%25%3B%0A%20%20%20%20%20%20%20%20top%3A%200.0%25%3B%0A%20%20%20%20%20%20%20%20%7D%0A%20%20%20%20%3C/style%3E%0A%3C/head%3E%0A%3Cbody%3E%20%20%20%20%0A%20%20%20%20%0A%20%20%20%20%3Cdiv%20class%3D%22folium-map%22%20id%3D%22map_244edb7fabe94b58b8fb798d14a4ea0f%22%20%3E%3C/div%3E%0A%3C/body%3E%0A%3Cscript%3E%20%20%20%20%0A%20%20%20%20%0A%20%20%20%20%0A%20%20%20%20%20%20%20%20var%20bounds%20%3D%20null%3B%0A%20%20%20%20%0A%0A%20%20%20%20var%20map_244edb7fabe94b58b8fb798d14a4ea0f%20%3D%20L.map%28%0A%20%20%20%20%20%20%20%20%27map_244edb7fabe94b58b8fb798d14a4ea0f%27%2C%20%7B%0A%20%20%20%20%20%20%20%20center%3A%20%5B37.55888886595899%2C%20126.94499351413067%5D%2C%0A%20%20%20%20%20%20%20%20zoom%3A%2017%2C%0A%20%20%20%20%20%20%20%20maxBounds%3A%20bounds%2C%0A%20%20%20%20%20%20%20%20layers%3A%20%5B%5D%2C%0A%20%20%20%20%20%20%20%20worldCopyJump%3A%20false%2C%0A%20%20%20%20%20%20%20%20crs%3A%20L.CRS.EPSG3857%2C%0A%20%20%20%20%20%20%20%20zoomControl%3A%20true%2C%0A%20%20%20%20%20%20%20%20%7D%29%3B%0A%0A%0A%20%20%20%20%0A%20%20%20%20var%20tile_layer_a321f4f9ad184d24b98fd05d0daf9ef3%20%3D%20L.tileLayer%28%0A%20%20%20%20%20%20%20%20%27https%3A//%7Bs%7D.tile.openstreetmap.org/%7Bz%7D/%7Bx%7D/%7By%7D.png%27%2C%0A%20%20%20%20%20%20%20%20%7B%0A%20%20%20%20%20%20%20%20%22attribution%22%3A%20null%2C%0A%20%20%20%20%20%20%20%20%22detectRetina%22%3A%20false%2C%0A%20%20%20%20%20%20%20%20%22maxNativeZoom%22%3A%2018%2C%0A%20%20%20%20%20%20%20%20%22maxZoom%22%3A%2018%2C%0A%20%20%20%20%20%20%20%20%22minZoom%22%3A%200%2C%0A%20%20%20%20%20%20%20%20%22noWrap%22%3A%20false%2C%0A%20%20%20%20%20%20%20%20%22opacity%22%3A%201%2C%0A%20%20%20%20%20%20%20%20%22subdomains%22%3A%20%22abc%22%2C%0A%20%20%20%20%20%20%20%20%22tms%22%3A%20false%0A%7D%29.addTo%28map_244edb7fabe94b58b8fb798d14a4ea0f%29%3B%0A%20%20%20%20%0A%20%20%20%20%20%20%20%20var%20marker_a657431039b24a25bf62b3e78e7b5f7b%20%3D%20L.marker%28%0A%20%20%20%20%20%20%20%20%20%20%20%20%5B37.559666751673596%2C%20126.94512114791948%5D%2C%0A%20%20%20%20%20%20%20%20%20%20%20%20%7B%0A%20%20%20%20%20%20%20%20%20%20%20%20%20%20%20%20icon%3A%20new%20L.Icon.Default%28%29%2C%0A%20%20%20%20%20%20%20%20%20%20%20%20%20%20%20%20%7D%0A%20%20%20%20%20%20%20%20%20%20%20%20%29.addTo%28map_244edb7fabe94b58b8fb798d14a4ea0f%29%3B%0A%20%20%20%20%20%20%20%20%0A%20%20%20%20%0A%20%20%20%20%20%20%20%20marker_a657431039b24a25bf62b3e78e7b5f7b.bindTooltip%28%0A%20%20%20%20%20%20%20%20%20%20%20%20%60%3Cdiv%3E%60%0A%20%20%20%20%20%20%20%20%20%20%20%20%2B%20%60%EB%8F%88%EC%B2%9C%EB%8F%99%20%EC%8B%9D%EB%8B%B9%60%20%2B%20%60%3C/div%3E%60%2C%0A%20%20%20%20%20%20%20%20%20%20%20%20%7B%22sticky%22%3A%20true%7D%0A%20%20%20%20%20%20%20%20%29%3B%0A%20%20%20%20%20%20%20%20%0A%20%20%20%20%0A%20%20%20%20%20%20%20%20var%20marker_f9051aae06044be5999d487d8ca5006d%20%3D%20L.marker%28%0A%20%20%20%20%20%20%20%20%20%20%20%20%5B37.55904177461071%2C%20126.94532699398697%5D%2C%0A%20%20%20%20%20%20%20%20%20%20%20%20%7B%0A%20%20%20%20%20%20%20%20%20%20%20%20%20%20%20%20icon%3A%20new%20L.Icon.Default%28%29%2C%0A%20%20%20%20%20%20%20%20%20%20%20%20%20%20%20%20%7D%0A%20%20%20%20%20%20%20%20%20%20%20%20%29.addTo%28map_244edb7fabe94b58b8fb798d14a4ea0f%29%3B%0A%20%20%20%20%20%20%20%20%0A%20%20%20%20%0A%20%20%20%20%20%20%20%20marker_f9051aae06044be5999d487d8ca5006d.bindTooltip%28%0A%20%20%20%20%20%20%20%20%20%20%20%20%60%3Cdiv%3E%60%0A%20%20%20%20%20%20%20%20%20%20%20%20%2B%20%60%EB%B9%B5%EC%82%AC%EC%9D%B4%EC%97%90%20%EB%82%80%20%EA%B3%BC%EC%9D%BC%60%20%2B%20%60%3C/div%3E%60%2C%0A%20%20%20%20%20%20%20%20%20%20%20%20%7B%22sticky%22%3A%20true%7D%0A%20%20%20%20%20%20%20%20%29%3B%0A%20%20%20%20%20%20%20%20%0A%20%20%20%20%0A%20%20%20%20%20%20%20%20var%20marker_1919e72068cd407dac3de367c97591ed%20%3D%20L.marker%28%0A%20%20%20%20%20%20%20%20%20%20%20%20%5B37.55879807682168%2C%20126.94586019997475%5D%2C%0A%20%20%20%20%20%20%20%20%20%20%20%20%7B%0A%20%20%20%20%20%20%20%20%20%20%20%20%20%20%20%20icon%3A%20new%20L.Icon.Default%28%29%2C%0A%20%20%20%20%20%20%20%20%20%20%20%20%20%20%20%20%7D%0A%20%20%20%20%20%20%20%20%20%20%20%20%29.addTo%28map_244edb7fabe94b58b8fb798d14a4ea0f%29%3B%0A%20%20%20%20%20%20%20%20%0A%20%20%20%20%0A%20%20%20%20%20%20%20%20marker_1919e72068cd407dac3de367c97591ed.bindTooltip%28%0A%20%20%20%20%20%20%20%20%20%20%20%20%60%3Cdiv%3E%60%0A%20%20%20%20%20%20%20%20%20%20%20%20%2B%20%60%ED%8F%AC%ED%8F%AC%EB%82%98%EB%AC%B4%60%20%2B%20%60%3C/div%3E%60%2C%0A%20%20%20%20%20%20%20%20%20%20%20%20%7B%22sticky%22%3A%20true%7D%0A%20%20%20%20%20%20%20%20%29%3B%0A%20%20%20%20%20%20%20%20%0A%20%20%20%20%0A%20%20%20%20%20%20%20%20var%20marker_5f65072ffb5e491895d467ae0babc9b5%20%3D%20L.marker%28%0A%20%20%20%20%20%20%20%20%20%20%20%20%5B37.558482056811634%2C%20126.94625442881632%5D%2C%0A%20%20%20%20%20%20%20%20%20%20%20%20%7B%0A%20%20%20%20%20%20%20%20%20%20%20%20%20%20%20%20icon%3A%20new%20L.Icon.Default%28%29%2C%0A%20%20%20%20%20%20%20%20%20%20%20%20%20%20%20%20%7D%0A%20%20%20%20%20%20%20%20%20%20%20%20%29.addTo%28map_244edb7fabe94b58b8fb798d14a4ea0f%29%3B%0A%20%20%20%20%20%20%20%20%0A%20%20%20%20%0A%20%20%20%20%20%20%20%20marker_5f65072ffb5e491895d467ae0babc9b5.bindTooltip%28%0A%20%20%20%20%20%20%20%20%20%20%20%20%60%3Cdiv%3E%60%0A%20%20%20%20%20%20%20%20%20%20%20%20%2B%20%60%EA%B9%8C%EC%9D%B4%EC%8B%9D%EB%8B%B9%60%20%2B%20%60%3C/div%3E%60%2C%0A%20%20%20%20%20%20%20%20%20%20%20%20%7B%22sticky%22%3A%20true%7D%0A%20%20%20%20%20%20%20%20%29%3B%0A%20%20%20%20%20%20%20%20%0A%20%20%20%20%0A%20%20%20%20%20%20%20%20var%20marker_67acce15b98d46b8aa09d37696c87141%20%3D%20L.marker%28%0A%20%20%20%20%20%20%20%20%20%20%20%20%5B37.55845566987734%2C%20126.9424047999559%5D%2C%0A%20%20%20%20%20%20%20%20%20%20%20%20%7B%0A%20%20%20%20%20%20%20%20%20%20%20%20%20%20%20%20icon%3A%20new%20L.Icon.Default%28%29%2C%0A%20%20%20%20%20%20%20%20%20%20%20%20%20%20%20%20%7D%0A%20%20%20%20%20%20%20%20%20%20%20%20%29.addTo%28map_244edb7fabe94b58b8fb798d14a4ea0f%29%3B%0A%20%20%20%20%20%20%20%20%0A%20%20%20%20%0A%20%20%20%20%20%20%20%20marker_67acce15b98d46b8aa09d37696c87141.bindTooltip%28%0A%20%20%20%20%20%20%20%20%20%20%20%20%60%3Cdiv%3E%60%0A%20%20%20%20%20%20%20%20%20%20%20%20%2B%20%60%EC%95%84%EC%BD%98%EC%8A%A4%ED%86%A8%60%20%2B%20%60%3C/div%3E%60%2C%0A%20%20%20%20%20%20%20%20%20%20%20%20%7B%22sticky%22%3A%20true%7D%0A%20%20%20%20%20%20%20%20%29%3B%0A%20%20%20%20%20%20%20%20%0A%3C/script%3E onload=\"this.contentDocument.open();this.contentDocument.write(    decodeURIComponent(this.getAttribute('data-html')));this.contentDocument.close();\" allowfullscreen webkitallowfullscreen mozallowfullscreen></iframe></div></div>"
            ],
            "text/plain": [
              "<folium.folium.Map at 0x7fdfacfe8828>"
            ]
          },
          "metadata": {
            "tags": []
          },
          "execution_count": 10
        }
      ]
    },
    {
      "cell_type": "code",
      "metadata": {
        "id": "HK3jEqIpCvOv"
      },
      "source": [
        ""
      ],
      "execution_count": null,
      "outputs": []
    },
    {
      "cell_type": "code",
      "metadata": {
        "id": "crFToWodCvMD"
      },
      "source": [
        ""
      ],
      "execution_count": null,
      "outputs": []
    }
  ]
}