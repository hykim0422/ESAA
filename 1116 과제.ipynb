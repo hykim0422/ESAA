{
 "cells": [
  {
   "cell_type": "markdown",
   "metadata": {},
   "source": [
    "## 1116 과제"
   ]
  },
  {
   "cell_type": "markdown",
   "metadata": {},
   "source": [
    "#### 1. CH08-연습문제 1번) 데이터셋의 차원을 축소하는 주요 목적은 무엇인가요? 대표적인 단점은 무엇인가요?\n",
    "\n",
    "\n"
   ]
  },
  {
   "cell_type": "markdown",
   "metadata": {},
   "source": [
    "훈련 알고리즘의 속도를 높이고, 데이터를 시각화하고 중요한 특성에 대해 통찰을 얻고, 메모리 공간을 절약하기 위해 테이터셋의 차원을 축소한다.\n",
    "\n",
    "차원 축소의 주요 단점으로는 일부 정보를 잃어버려 훈련 알고리즘의 성능을 감소시킬 수 있다는 것, 계산 비용이 높다는 것, 머신러닝 파이프라인의 복잡도를 증가시킨다는 것 등이 있다."
   ]
  },
  {
   "cell_type": "markdown",
   "metadata": {},
   "source": [
    "#### 2. CH08-연습문제 7번) 어떤 데이터셋에 적용한 차원 축소 알고리즘의 성능을 어떻게 평가할 수 있을까요?\n"
   ]
  },
  {
   "cell_type": "markdown",
   "metadata": {},
   "source": [
    "역변환을 수행해서 재구성 오차를 측정하는 방법이 있지만 모든 차원 축소 알고리즘이 역변환을 제공하지 않기 때문에 만약 차원 축소를 다른 머신러닝 알고리즘을 적용하기 전 전처리 단계로 사용한다면 두 번째 알고리즘의 성능을 측정해볼 수 있다."
   ]
  },
  {
   "cell_type": "markdown",
   "metadata": {},
   "source": [
    "#### 3. CH09-연습문제 3번) k-평균을 사용할 때 적절한 클러스터 개수를 선택할 수 있는 두 가지 기법을 설명하세요."
   ]
  },
  {
   "cell_type": "markdown",
   "metadata": {},
   "source": [
    "적절한 클러스터 개수를 선택하는 간단한 방법으로 엘보 규칙이 있다. 클러스터 개수의 함수로 이너셔를 그리고 그래프에서 이너셔가 더는 빠르게 감소하지 않는 지점을 찾는 방법으로 일반적으로 이 점이 최적의 클러스터 개수에 가깝다.\n",
    "\n",
    "두 번째 방법으로는 클러스터 개수의 함수로 실루엣 점수를 그래프로 그린다. 그래프에 뾰족하게 올라간 지점이 나타나는 경우가 많은데, 일반적으로 이 근처가 최적의 클러스터 개수이다."
   ]
  }
 ],
 "metadata": {
  "kernelspec": {
   "display_name": "Python 3",
   "language": "python",
   "name": "python3"
  },
  "language_info": {
   "codemirror_mode": {
    "name": "ipython",
    "version": 3
   },
   "file_extension": ".py",
   "mimetype": "text/x-python",
   "name": "python",
   "nbconvert_exporter": "python",
   "pygments_lexer": "ipython3",
   "version": "3.8.3"
  }
 },
 "nbformat": 4,
 "nbformat_minor": 4
}
